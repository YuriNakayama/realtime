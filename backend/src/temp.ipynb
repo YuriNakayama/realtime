{
 "cells": [
  {
   "cell_type": "code",
   "execution_count": null,
   "id": "b077c8a9",
   "metadata": {},
   "outputs": [],
   "source": [
    "import os\n",
    "\n",
    "from agents.realtime import (\n",
    "    RealtimeAgent,\n",
    "    RealtimeModelConfig,\n",
    "    RealtimePlaybackTracker,\n",
    "    RealtimeRunner,\n",
    "    RealtimeSession,\n",
    ")\n",
    "from dotenv import load_dotenv\n"
   ]
  },
  {
   "cell_type": "code",
   "execution_count": 8,
   "id": "6ce1b6d3",
   "metadata": {},
   "outputs": [],
   "source": [
    "if not load_dotenv():\n",
    "    print(\"No .env file found\")\n",
    "\n",
    "api_key = os.getenv(\"OPENAI_API_KEY\")\n",
    "if api_key is None:\n",
    "    raise ValueError(\"No OPENAI_API_KEY found in environment variables\")"
   ]
  },
  {
   "cell_type": "code",
   "execution_count": 9,
   "id": "0f70805d",
   "metadata": {},
   "outputs": [],
   "source": [
    "agent = RealtimeAgent(\n",
    "    name = \"Test Agent\",\n",
    "    instructions=\"すべての語尾に!!!をつけて話してください。\"\n",
    ")"
   ]
  },
  {
   "cell_type": "code",
   "execution_count": 10,
   "id": "654d26bb",
   "metadata": {},
   "outputs": [],
   "source": [
    "runner = RealtimeRunner(agent)"
   ]
  },
  {
   "cell_type": "code",
   "execution_count": 12,
   "id": "01f12efa",
   "metadata": {},
   "outputs": [],
   "source": [
    "session = await runner.run(\n",
    "    model_config=RealtimeModelConfig(\n",
    "        api_key=api_key,\n",
    "        initial_model_settings={\n",
    "            \"input_audio_format\": \"g711_ulaw\",\n",
    "            \"output_audio_format\": \"g711_ulaw\",\n",
    "            \"turn_detection\": {\n",
    "                \"type\": \"semantic_vad\",\n",
    "                \"interrupt_response\": True,\n",
    "                \"create_response\": True,\n",
    "            },\n",
    "        },\n",
    "        playback_tracker=RealtimePlaybackTracker(),\n",
    "    )\n",
    ")"
   ]
  },
  {
   "cell_type": "code",
   "execution_count": 13,
   "id": "d86dfedf",
   "metadata": {},
   "outputs": [
    {
     "data": {
      "text/plain": [
       "<agents.realtime.session.RealtimeSession at 0x10dc5f0b0>"
      ]
     },
     "execution_count": 13,
     "metadata": {},
     "output_type": "execute_result"
    }
   ],
   "source": [
    "await session.enter()"
   ]
  },
  {
   "cell_type": "code",
   "execution_count": null,
   "id": "112ab4f5",
   "metadata": {},
   "outputs": [],
   "source": []
  }
 ],
 "metadata": {
  "kernelspec": {
   "display_name": "temp-fastapi",
   "language": "python",
   "name": "python3"
  },
  "language_info": {
   "codemirror_mode": {
    "name": "ipython",
    "version": 3
   },
   "file_extension": ".py",
   "mimetype": "text/x-python",
   "name": "python",
   "nbconvert_exporter": "python",
   "pygments_lexer": "ipython3",
   "version": "3.12.9"
  }
 },
 "nbformat": 4,
 "nbformat_minor": 5
}
