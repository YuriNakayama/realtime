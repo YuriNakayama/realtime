{
 "cells": [
  {
   "cell_type": "code",
   "execution_count": 4,
   "id": "b077c8a9",
   "metadata": {},
   "outputs": [],
   "source": [
    "import os\n",
    "\n",
    "from agents.realtime import (\n",
    "    RealtimeAgent,\n",
    "    RealtimeModelConfig,\n",
    "    RealtimePlaybackTracker,\n",
    "    RealtimeRunner,\n",
    ")\n",
    "from dotenv import load_dotenv"
   ]
  },
  {
   "cell_type": "code",
   "execution_count": 5,
   "id": "6ce1b6d3",
   "metadata": {},
   "outputs": [],
   "source": [
    "if not load_dotenv():\n",
    "    print(\"No .env file found\")\n",
    "\n",
    "api_key = os.getenv(\"OPENAI_API_KEY\")\n",
    "if api_key is None:\n",
    "    raise ValueError(\"No OPENAI_API_KEY found in environment variables\")"
   ]
  },
  {
   "cell_type": "code",
   "execution_count": 6,
   "id": "0f70805d",
   "metadata": {},
   "outputs": [],
   "source": [
    "agent = RealtimeAgent(\n",
    "    name=\"Test Agent\", instructions=\"すべての語尾に!!!をつけて話してください。\"\n",
    ")"
   ]
  },
  {
   "cell_type": "code",
   "execution_count": 7,
   "id": "654d26bb",
   "metadata": {},
   "outputs": [],
   "source": [
    "runner = RealtimeRunner(agent)"
   ]
  },
  {
   "cell_type": "code",
   "execution_count": 8,
   "id": "01f12efa",
   "metadata": {},
   "outputs": [],
   "source": [
    "session = await runner.run(\n",
    "    model_config=RealtimeModelConfig(\n",
    "        api_key=api_key,\n",
    "        initial_model_settings={\n",
    "            \"input_audio_format\": \"g711_ulaw\",\n",
    "            \"output_audio_format\": \"g711_ulaw\",\n",
    "            \"turn_detection\": {\n",
    "                \"type\": \"semantic_vad\",\n",
    "                \"interrupt_response\": True,\n",
    "                \"create_response\": True,\n",
    "            },\n",
    "        },\n",
    "        playback_tracker=RealtimePlaybackTracker(),\n",
    "    )\n",
    ")"
   ]
  },
  {
   "cell_type": "code",
   "execution_count": 9,
   "id": "d86dfedf",
   "metadata": {},
   "outputs": [
    {
     "data": {
      "text/plain": [
       "<agents.realtime.session.RealtimeSession at 0x107c10110>"
      ]
     },
     "execution_count": 9,
     "metadata": {},
     "output_type": "execute_result"
    }
   ],
   "source": [
    "await session.enter()"
   ]
  },
  {
   "cell_type": "code",
   "execution_count": 11,
   "id": "112ab4f5",
   "metadata": {},
   "outputs": [],
   "source": [
    "await session.send_message(\"こんにちは、元気ですか？\")"
   ]
  },
  {
   "cell_type": "code",
   "execution_count": 12,
   "id": "f8549238",
   "metadata": {},
   "outputs": [
    {
     "data": {
      "text/plain": [
       "<agents.realtime.session.RealtimeSession at 0x107c10110>"
      ]
     },
     "execution_count": 12,
     "metadata": {},
     "output_type": "execute_result"
    }
   ],
   "source": [
    "session"
   ]
  },
  {
   "cell_type": "code",
   "execution_count": 13,
   "id": "ef1bd493",
   "metadata": {},
   "outputs": [],
   "source": [
    "from logging import INFO, Formatter, Logger, StreamHandler, getLogger\n",
    "from logging.handlers import RotatingFileHandler\n",
    "from pathlib import Path\n",
    "\n",
    "\n",
    "def get_logger(name: str, log_file: str) -> Logger:\n",
    "    \"\"\"\n",
    "    log_fileに書き込む\n",
    "    \"\"\"\n",
    "    logger = getLogger(name)\n",
    "\n",
    "    # 既にハンドラーが設定されている場合はそのまま返す\n",
    "    if logger.hasHandlers():\n",
    "        return logger\n",
    "\n",
    "    # フォーマッターの作成\n",
    "    formatter = Formatter(\n",
    "        \"%(levelname)s %(asctime)s - %(filename)s:l%(lineno)d - %(message)s\",\n",
    "        datefmt=\"%Y%m%d %H:%M:%S\",\n",
    "    )\n",
    "\n",
    "    # コンソールハンドラーの設定\n",
    "    console_handler = StreamHandler()\n",
    "    console_handler.setFormatter(formatter)\n",
    "    console_handler.setLevel(INFO)\n",
    "    logger.addHandler(console_handler)\n",
    "\n",
    "    # ファイルハンドラーの設定\n",
    "    # ログファイルのディレクトリを作成\n",
    "    log_path = Path(log_file)\n",
    "    log_dir = log_path.parent\n",
    "    log_dir.mkdir(parents=True, exist_ok=True)\n",
    "\n",
    "    # ローテーティングファイルハンドラーの作成\n",
    "    file_handler = RotatingFileHandler(\n",
    "        log_path,\n",
    "        maxBytes=10 * 1024 * 1024,  # 10MB\n",
    "        backupCount=5,  # 5個のバックアップ\n",
    "        encoding=\"utf-8\",\n",
    "    )\n",
    "    file_handler.setFormatter(formatter)\n",
    "    file_handler.setLevel(INFO)\n",
    "    logger.addHandler(file_handler)\n",
    "\n",
    "    # ロガーのレベル設定\n",
    "    logger.setLevel(INFO)\n",
    "\n",
    "    return logger"
   ]
  },
  {
   "cell_type": "code",
   "execution_count": 14,
   "id": "fbe519f0",
   "metadata": {},
   "outputs": [],
   "source": [
    "logger = get_logger(\"audio_service\", \"logs/audio_service.log\")"
   ]
  },
  {
   "cell_type": "code",
   "execution_count": 15,
   "id": "70bfcbc0",
   "metadata": {},
   "outputs": [
    {
     "name": "stderr",
     "output_type": "stream",
     "text": [
      "INFO 20251002 18:51:09 - 2532040493.py:l1 - This is an info message\n"
     ]
    }
   ],
   "source": [
    "logger.info(\"This is an info message\")"
   ]
  },
  {
   "cell_type": "code",
   "execution_count": 16,
   "id": "28a534f2",
   "metadata": {},
   "outputs": [
    {
     "name": "stderr",
     "output_type": "stream",
     "text": [
      "WARNING 20251002 18:51:18 - 1885086853.py:l1 - This is a warning message\n"
     ]
    }
   ],
   "source": [
    "logger.warning(\"This is a warning message\")"
   ]
  },
  {
   "cell_type": "code",
   "execution_count": null,
   "id": "10161dd2",
   "metadata": {},
   "outputs": [],
   "source": []
  }
 ],
 "metadata": {
  "kernelspec": {
   "display_name": "temp-fastapi",
   "language": "python",
   "name": "python3"
  },
  "language_info": {
   "codemirror_mode": {
    "name": "ipython",
    "version": 3
   },
   "file_extension": ".py",
   "mimetype": "text/x-python",
   "name": "python",
   "nbconvert_exporter": "python",
   "pygments_lexer": "ipython3",
   "version": "3.12.9"
  }
 },
 "nbformat": 4,
 "nbformat_minor": 5
}
