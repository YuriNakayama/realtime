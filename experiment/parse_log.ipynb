{
 "cells": [
  {
   "cell_type": "code",
   "execution_count": 1,
   "id": "e8567572",
   "metadata": {},
   "outputs": [],
   "source": [
    "from pathlib import Path"
   ]
  },
  {
   "cell_type": "code",
   "execution_count": 4,
   "id": "dc0e21ef",
   "metadata": {},
   "outputs": [],
   "source": [
    "path = Path(\"../logs/connection_test.log\")"
   ]
  },
  {
   "cell_type": "code",
   "execution_count": 12,
   "id": "8f3aacca",
   "metadata": {},
   "outputs": [],
   "source": [
    "class_names = []\n",
    "for line in path.read_text().splitlines():\n",
    "    class_name = line.split(\" - \")[-1]\n",
    "    class_names.append(class_name)"
   ]
  },
  {
   "cell_type": "code",
   "execution_count": 13,
   "id": "5033588f",
   "metadata": {},
   "outputs": [
    {
     "data": {
      "text/plain": [
       "{\"<class 'agents.realtime.events.RealtimeAgentEndEvent'>\",\n",
       " \"<class 'agents.realtime.events.RealtimeAgentStartEvent'>\",\n",
       " \"<class 'agents.realtime.events.RealtimeAudio'>\",\n",
       " \"<class 'agents.realtime.events.RealtimeAudioEnd'>\",\n",
       " \"<class 'agents.realtime.events.RealtimeHistoryAdded'>\",\n",
       " \"<class 'agents.realtime.events.RealtimeHistoryUpdated'>\",\n",
       " \"<class 'agents.realtime.events.RealtimeRawModelEvent'>\"}"
      ]
     },
     "execution_count": 13,
     "metadata": {},
     "output_type": "execute_result"
    }
   ],
   "source": [
    "set(class_names)"
   ]
  },
  {
   "cell_type": "code",
   "execution_count": null,
   "id": "f983c94e",
   "metadata": {},
   "outputs": [],
   "source": []
  }
 ],
 "metadata": {
  "kernelspec": {
   "display_name": "temp-fastapi",
   "language": "python",
   "name": "python3"
  },
  "language_info": {
   "codemirror_mode": {
    "name": "ipython",
    "version": 3
   },
   "file_extension": ".py",
   "mimetype": "text/x-python",
   "name": "python",
   "nbconvert_exporter": "python",
   "pygments_lexer": "ipython3",
   "version": "3.12.9"
  }
 },
 "nbformat": 4,
 "nbformat_minor": 5
}
